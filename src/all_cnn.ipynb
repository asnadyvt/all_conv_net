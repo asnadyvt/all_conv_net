{
 "cells": [
  {
   "cell_type": "markdown",
   "metadata": {},
   "source": [
    "## ECBM E6040 Group 51 ALL CNN"
   ]
  },
  {
   "cell_type": "code",
   "execution_count": 1,
   "metadata": {
    "collapsed": false
   },
   "outputs": [
    {
     "name": "stderr",
     "output_type": "stream",
     "text": [
      "/usr/local/lib/python2.7/site-packages/theano/tensor/signal/downsample.py:6: UserWarning: downsample module has been moved to the theano.tensor.signal.pool module.\n",
      "  \"downsample module has been moved to the theano.tensor.signal.pool module.\")\n"
     ]
    }
   ],
   "source": [
    "import matplotlib\n",
    "import pylab\n",
    "from train import *\n",
    "from model import *\n",
    "from all_cnn import *\n",
    "from conv_pool import *\n",
    "from strided_cnn import *\n",
    "%matplotlib inline"
   ]
  },
  {
   "cell_type": "markdown",
   "metadata": {},
   "source": [
    "### MODEL A"
   ]
  },
  {
   "cell_type": "code",
   "execution_count": 31,
   "metadata": {
    "collapsed": false
   },
   "outputs": [
    {
     "name": "stdout",
     "output_type": "stream",
     "text": [
      "Optimization complete.\n",
      "Best validation score of 15.16000 % obtained at iteration 51500, with test performance 15.16000 %\n",
      "The training process for function <module> ran for 343.63m\n"
     ]
    }
   ],
   "source": [
    "train(model_a, learning_rate=0.05)"
   ]
  },
  {
   "cell_type": "code",
   "execution_count": 32,
   "metadata": {
    "collapsed": false
   },
   "outputs": [
    {
     "name": "stdout",
     "output_type": "stream",
     "text": [
      "Optimization complete.\n",
      "Best validation score of 18.23000 % obtained at iteration 64800, with test performance 18.23000 %\n",
      "The training process for function <module> ran for 168.89m\n"
     ]
    }
   ],
   "source": [
    "train(strided_cnn_a, learning_rate=0.05)"
   ]
  },
  {
   "cell_type": "code",
   "execution_count": 33,
   "metadata": {
    "collapsed": false
   },
   "outputs": [
    {
     "name": "stdout",
     "output_type": "stream",
     "text": [
      "Optimization complete.\n",
      "Best validation score of 11.44000 % obtained at iteration 84000, with test performance 11.44000 %\n",
      "The training process for function <module> ran for 694.26m\n"
     ]
    }
   ],
   "source": [
    "train(conv_pool_cnn_a, learning_rate=0.05)"
   ]
  },
  {
   "cell_type": "code",
   "execution_count": 34,
   "metadata": {
    "collapsed": false
   },
   "outputs": [
    {
     "name": "stdout",
     "output_type": "stream",
     "text": [
      "Optimization complete.\n",
      "Best validation score of 12.65000 % obtained at iteration 77175, with test performance 12.65000 %\n",
      "The training process for function <module> ran for 642.76m\n"
     ]
    }
   ],
   "source": [
    "train(all_cnn_a, learning_rate=0.01)"
   ]
  },
  {
   "cell_type": "markdown",
   "metadata": {},
   "source": [
    "### MODEL B"
   ]
  },
  {
   "cell_type": "code",
   "execution_count": 35,
   "metadata": {
    "collapsed": false
   },
   "outputs": [
    {
     "name": "stdout",
     "output_type": "stream",
     "text": [
      "Optimization complete.\n",
      "Best validation score of 13.52000 % obtained at iteration 71249, with test performance 13.52000 %\n",
      "The training process for function <module> ran for 453.42m\n"
     ]
    }
   ],
   "source": [
    "train(model_b, learning_rate=0.05)"
   ]
  },
  {
   "cell_type": "code",
   "execution_count": 36,
   "metadata": {
    "collapsed": false
   },
   "outputs": [
    {
     "name": "stdout",
     "output_type": "stream",
     "text": [
      "Optimization complete.\n",
      "Best validation score of 15.56000 % obtained at iteration 84999, with test performance 15.56000 %\n",
      "The training process for function <module> ran for 440.26m\n"
     ]
    }
   ],
   "source": [
    "train(strided_cnn_b, learning_rate=0.05)"
   ]
  },
  {
   "cell_type": "code",
   "execution_count": 37,
   "metadata": {
    "collapsed": false
   },
   "outputs": [
    {
     "name": "stdout",
     "output_type": "stream",
     "text": [
      "Optimization complete.\n",
      "Best validation score of 11.84000 % obtained at iteration 64749, with test performance 11.84000 %\n",
      "The training process for function <module> ran for 879.25m\n"
     ]
    }
   ],
   "source": [
    "train(conv_pool_cnn_b, learning_rate=0.01)"
   ]
  },
  {
   "cell_type": "code",
   "execution_count": 38,
   "metadata": {
    "collapsed": false
   },
   "outputs": [
    {
     "name": "stdout",
     "output_type": "stream",
     "text": [
      "Optimization complete.\n",
      "Best validation score of 11.84000 % obtained at iteration 71249, with test performance 11.84000 %\n",
      "The training process for function <module> ran for 626.85m\n"
     ]
    }
   ],
   "source": [
    "train(all_cnn_b, learning_rate=0.01)"
   ]
  },
  {
   "cell_type": "markdown",
   "metadata": {},
   "source": [
    "### MODEL C"
   ]
  },
  {
   "cell_type": "code",
   "execution_count": 43,
   "metadata": {
    "collapsed": false
   },
   "outputs": [
    {
     "name": "stdout",
     "output_type": "stream",
     "text": [
      "Optimization complete.\n",
      "Best validation score of 11.11000 % obtained at iteration 76274, with test performance 11.11000 %\n",
      "The training process for function <module> ran for 708.42m\n"
     ]
    }
   ],
   "source": [
    "train(model_c, learning_rate=0.05)"
   ]
  },
  {
   "cell_type": "code",
   "execution_count": 40,
   "metadata": {
    "collapsed": false
   },
   "outputs": [
    {
     "name": "stdout",
     "output_type": "stream",
     "text": [
      "Optimization complete.\n",
      "Best validation score of 12.91000 % obtained at iteration 74249, with test performance 12.91000 %\n",
      "The training process for function <module> ran for 428.63m\n"
     ]
    }
   ],
   "source": [
    "train(strided_cnn_c, learning_rate=0.05)"
   ]
  },
  {
   "cell_type": "code",
   "execution_count": 41,
   "metadata": {
    "collapsed": false
   },
   "outputs": [
    {
     "name": "stdout",
     "output_type": "stream",
     "text": [
      "Optimization complete.\n",
      "Best validation score of 11.09000 % obtained at iteration 80999, with test performance 11.09000 %\n",
      "The training process for function <module> ran for 1346.35m\n"
     ]
    }
   ],
   "source": [
    "train(conv_pool_cnn_c, learning_rate=0.01)"
   ]
  },
  {
   "cell_type": "code",
   "execution_count": 42,
   "metadata": {
    "collapsed": false
   },
   "outputs": [
    {
     "name": "stdout",
     "output_type": "stream",
     "text": [
      "Optimization complete.\n",
      "Best validation score of 11.17000 % obtained at iteration 79749, with test performance 11.17000 %\n",
      "The training process for function <module> ran for 984.55m\n"
     ]
    }
   ],
   "source": [
    "train(all_cnn_c, learning_rate=0.05)"
   ]
  }
 ],
 "metadata": {
  "kernelspec": {
   "display_name": "Python 2",
   "language": "python",
   "name": "python2"
  },
  "language_info": {
   "codemirror_mode": {
    "name": "ipython",
    "version": 2
   },
   "file_extension": ".py",
   "mimetype": "text/x-python",
   "name": "python",
   "nbconvert_exporter": "python",
   "pygments_lexer": "ipython2",
   "version": "2.7.10"
  }
 },
 "nbformat": 4,
 "nbformat_minor": 0
}
